{
 "cells": [
  {
   "cell_type": "code",
   "execution_count": 1,
   "id": "90d178b0",
   "metadata": {},
   "outputs": [
    {
     "name": "stdout",
     "output_type": "stream",
     "text": [
      "Requirement already satisfied: catboost in c:\\users\\himanshu\\anaconda3\\lib\\site-packages (1.2.2)\n",
      "Requirement already satisfied: graphviz in c:\\users\\himanshu\\anaconda3\\lib\\site-packages (from catboost) (0.20.1)\n",
      "Requirement already satisfied: matplotlib in c:\\users\\himanshu\\anaconda3\\lib\\site-packages (from catboost) (3.5.1)\n",
      "Requirement already satisfied: numpy>=1.16.0 in c:\\users\\himanshu\\anaconda3\\lib\\site-packages (from catboost) (1.21.5)\n",
      "Requirement already satisfied: pandas>=0.24 in c:\\users\\himanshu\\anaconda3\\lib\\site-packages (from catboost) (1.4.2)\n",
      "Requirement already satisfied: scipy in c:\\users\\himanshu\\anaconda3\\lib\\site-packages (from catboost) (1.7.3)\n",
      "Requirement already satisfied: plotly in c:\\users\\himanshu\\anaconda3\\lib\\site-packages (from catboost) (5.6.0)\n",
      "Requirement already satisfied: six in c:\\users\\himanshu\\anaconda3\\lib\\site-packages (from catboost) (1.16.0)\n",
      "Requirement already satisfied: python-dateutil>=2.8.1 in c:\\users\\himanshu\\anaconda3\\lib\\site-packages (from pandas>=0.24->catboost) (2.8.2)\n",
      "Requirement already satisfied: pytz>=2020.1 in c:\\users\\himanshu\\anaconda3\\lib\\site-packages (from pandas>=0.24->catboost) (2021.3)\n",
      "Requirement already satisfied: cycler>=0.10 in c:\\users\\himanshu\\anaconda3\\lib\\site-packages (from matplotlib->catboost) (0.11.0)\n",
      "Requirement already satisfied: fonttools>=4.22.0 in c:\\users\\himanshu\\anaconda3\\lib\\site-packages (from matplotlib->catboost) (4.25.0)\n",
      "Requirement already satisfied: kiwisolver>=1.0.1 in c:\\users\\himanshu\\anaconda3\\lib\\site-packages (from matplotlib->catboost) (1.3.2)\n",
      "Requirement already satisfied: packaging>=20.0 in c:\\users\\himanshu\\anaconda3\\lib\\site-packages (from matplotlib->catboost) (21.3)\n",
      "Requirement already satisfied: pillow>=6.2.0 in c:\\users\\himanshu\\anaconda3\\lib\\site-packages (from matplotlib->catboost) (9.5.0)\n",
      "Requirement already satisfied: pyparsing>=2.2.1 in c:\\users\\himanshu\\anaconda3\\lib\\site-packages (from matplotlib->catboost) (3.0.4)\n",
      "Requirement already satisfied: tenacity>=6.2.0 in c:\\users\\himanshu\\anaconda3\\lib\\site-packages (from plotly->catboost) (8.2.3)\n",
      "Note: you may need to restart the kernel to use updated packages.\n"
     ]
    },
    {
     "name": "stderr",
     "output_type": "stream",
     "text": [
      "WARNING: Ignoring invalid distribution -illow (c:\\users\\himanshu\\anaconda3\\lib\\site-packages)\n",
      "WARNING: Ignoring invalid distribution -rotobuf (c:\\users\\himanshu\\anaconda3\\lib\\site-packages)\n",
      "WARNING: Ignoring invalid distribution -illow (c:\\users\\himanshu\\anaconda3\\lib\\site-packages)\n",
      "WARNING: Ignoring invalid distribution -rotobuf (c:\\users\\himanshu\\anaconda3\\lib\\site-packages)\n",
      "\n",
      "[notice] A new release of pip is available: 23.2.1 -> 23.3.1\n",
      "[notice] To update, run: python.exe -m pip install --upgrade pip\n"
     ]
    }
   ],
   "source": [
    "pip install catboost"
   ]
  },
  {
   "cell_type": "code",
   "execution_count": 2,
   "id": "7c74c3ce",
   "metadata": {},
   "outputs": [
    {
     "name": "stdout",
     "output_type": "stream",
     "text": [
      "Requirement already satisfied: lightgbm in c:\\users\\himanshu\\anaconda3\\lib\\site-packages (4.1.0)\n",
      "Requirement already satisfied: numpy in c:\\users\\himanshu\\anaconda3\\lib\\site-packages (from lightgbm) (1.21.5)\n",
      "Requirement already satisfied: scipy in c:\\users\\himanshu\\anaconda3\\lib\\site-packages (from lightgbm) (1.7.3)\n",
      "Note: you may need to restart the kernel to use updated packages.\n"
     ]
    },
    {
     "name": "stderr",
     "output_type": "stream",
     "text": [
      "WARNING: Ignoring invalid distribution -illow (c:\\users\\himanshu\\anaconda3\\lib\\site-packages)\n",
      "WARNING: Ignoring invalid distribution -rotobuf (c:\\users\\himanshu\\anaconda3\\lib\\site-packages)\n",
      "WARNING: Ignoring invalid distribution -illow (c:\\users\\himanshu\\anaconda3\\lib\\site-packages)\n",
      "WARNING: Ignoring invalid distribution -rotobuf (c:\\users\\himanshu\\anaconda3\\lib\\site-packages)\n",
      "\n",
      "[notice] A new release of pip is available: 23.2.1 -> 23.3.1\n",
      "[notice] To update, run: python.exe -m pip install --upgrade pip\n"
     ]
    }
   ],
   "source": [
    "pip install lightgbm"
   ]
  },
  {
   "cell_type": "code",
   "execution_count": 3,
   "id": "52aa2d45",
   "metadata": {},
   "outputs": [],
   "source": [
    "import pandas as pd\n",
    "import numpy as np\n",
    "import seaborn as sns\n",
    "import os\n",
    "%matplotlib inline\n",
    "\n",
    "import matplotlib.pyplot as plt\n",
    "import missingno as msno\n",
    "import plotly.express as px\n",
    "from sklearn.model_selection import cross_val_score\n",
    "from sklearn import metrics\n",
    "from scipy import stats\n",
    "from scipy.stats import norm, skew \n",
    "from sklearn.model_selection import train_test_split\n",
    "from sklearn.metrics import confusion_matrix, accuracy_score\n",
    "from sklearn.feature_selection import SelectFromModel\n",
    "import optuna\n",
    "import xgboost as xgb\n",
    "from xgboost import XGBClassifier\n",
    "import catboost\n",
    "from catboost import CatBoostClassifier\n",
    "import lightgbm as lgbm\n",
    "from lightgbm import LGBMClassifier\n",
    "optuna.logging.set_verbosity(optuna.logging.WARNING)\n",
    "from lightgbm import *\n",
    "from sklearn.neighbors import KNeighborsClassifier\n",
    "from sklearn.ensemble import RandomForestClassifier\n",
    "from sklearn.tree import DecisionTreeClassifier\n",
    "from sklearn.linear_model import LogisticRegression\n",
    "pd.set_option(\"display.max_columns\", None)\n",
    "\n",
    "import warnings\n",
    "warnings.filterwarnings('ignore')"
   ]
  },
  {
   "cell_type": "code",
   "execution_count": 4,
   "id": "6d4ea0ff",
   "metadata": {},
   "outputs": [],
   "source": [
    "df=pd.read_csv(\"merged_data.csv\")\n"
   ]
  },
  {
   "cell_type": "code",
   "execution_count": 5,
   "id": "ee1dae5b",
   "metadata": {},
   "outputs": [
    {
     "data": {
      "text/html": [
       "<div>\n",
       "<style scoped>\n",
       "    .dataframe tbody tr th:only-of-type {\n",
       "        vertical-align: middle;\n",
       "    }\n",
       "\n",
       "    .dataframe tbody tr th {\n",
       "        vertical-align: top;\n",
       "    }\n",
       "\n",
       "    .dataframe thead th {\n",
       "        text-align: right;\n",
       "    }\n",
       "</style>\n",
       "<table border=\"1\" class=\"dataframe\">\n",
       "  <thead>\n",
       "    <tr style=\"text-align: right;\">\n",
       "      <th></th>\n",
       "      <th>X</th>\n",
       "      <th>Y</th>\n",
       "      <th>Z</th>\n",
       "      <th>EDA</th>\n",
       "      <th>HR</th>\n",
       "      <th>TEMP</th>\n",
       "      <th>id</th>\n",
       "      <th>datetime</th>\n",
       "      <th>label</th>\n",
       "    </tr>\n",
       "  </thead>\n",
       "  <tbody>\n",
       "    <tr>\n",
       "      <th>0</th>\n",
       "      <td>-13.0</td>\n",
       "      <td>-61.0</td>\n",
       "      <td>5.0</td>\n",
       "      <td>6.769995</td>\n",
       "      <td>99.43</td>\n",
       "      <td>31.17</td>\n",
       "      <td>15</td>\n",
       "      <td>2020-07-08 14:03:00.000000000</td>\n",
       "      <td>2.0</td>\n",
       "    </tr>\n",
       "    <tr>\n",
       "      <th>1</th>\n",
       "      <td>-20.0</td>\n",
       "      <td>-69.0</td>\n",
       "      <td>-3.0</td>\n",
       "      <td>6.769995</td>\n",
       "      <td>99.43</td>\n",
       "      <td>31.17</td>\n",
       "      <td>15</td>\n",
       "      <td>2020-07-08 14:03:00.031249920</td>\n",
       "      <td>2.0</td>\n",
       "    </tr>\n",
       "    <tr>\n",
       "      <th>2</th>\n",
       "      <td>-31.0</td>\n",
       "      <td>-78.0</td>\n",
       "      <td>-15.0</td>\n",
       "      <td>6.769995</td>\n",
       "      <td>99.43</td>\n",
       "      <td>31.17</td>\n",
       "      <td>15</td>\n",
       "      <td>2020-07-08 14:03:00.062500096</td>\n",
       "      <td>2.0</td>\n",
       "    </tr>\n",
       "    <tr>\n",
       "      <th>3</th>\n",
       "      <td>-47.0</td>\n",
       "      <td>-65.0</td>\n",
       "      <td>-38.0</td>\n",
       "      <td>6.769995</td>\n",
       "      <td>99.43</td>\n",
       "      <td>31.17</td>\n",
       "      <td>15</td>\n",
       "      <td>2020-07-08 14:03:00.093750016</td>\n",
       "      <td>2.0</td>\n",
       "    </tr>\n",
       "    <tr>\n",
       "      <th>4</th>\n",
       "      <td>-67.0</td>\n",
       "      <td>-57.0</td>\n",
       "      <td>-53.0</td>\n",
       "      <td>6.769995</td>\n",
       "      <td>99.43</td>\n",
       "      <td>31.17</td>\n",
       "      <td>15</td>\n",
       "      <td>2020-07-08 14:03:00.124999936</td>\n",
       "      <td>2.0</td>\n",
       "    </tr>\n",
       "    <tr>\n",
       "      <th>...</th>\n",
       "      <td>...</td>\n",
       "      <td>...</td>\n",
       "      <td>...</td>\n",
       "      <td>...</td>\n",
       "      <td>...</td>\n",
       "      <td>...</td>\n",
       "      <td>...</td>\n",
       "      <td>...</td>\n",
       "      <td>...</td>\n",
       "    </tr>\n",
       "    <tr>\n",
       "      <th>4035462</th>\n",
       "      <td>-23.0</td>\n",
       "      <td>-59.0</td>\n",
       "      <td>13.0</td>\n",
       "      <td>0.807457</td>\n",
       "      <td>76.60</td>\n",
       "      <td>34.21</td>\n",
       "      <td>7E</td>\n",
       "      <td>2020-10-31 15:13:27.000000000</td>\n",
       "      <td>2.0</td>\n",
       "    </tr>\n",
       "    <tr>\n",
       "      <th>4035463</th>\n",
       "      <td>-23.0</td>\n",
       "      <td>-59.0</td>\n",
       "      <td>14.0</td>\n",
       "      <td>0.807457</td>\n",
       "      <td>76.60</td>\n",
       "      <td>34.21</td>\n",
       "      <td>7E</td>\n",
       "      <td>2020-10-31 15:13:27.031249920</td>\n",
       "      <td>2.0</td>\n",
       "    </tr>\n",
       "    <tr>\n",
       "      <th>4035464</th>\n",
       "      <td>-23.0</td>\n",
       "      <td>-59.0</td>\n",
       "      <td>15.0</td>\n",
       "      <td>0.807457</td>\n",
       "      <td>76.60</td>\n",
       "      <td>34.21</td>\n",
       "      <td>7E</td>\n",
       "      <td>2020-10-31 15:13:27.062500096</td>\n",
       "      <td>2.0</td>\n",
       "    </tr>\n",
       "    <tr>\n",
       "      <th>4035465</th>\n",
       "      <td>-23.0</td>\n",
       "      <td>-59.0</td>\n",
       "      <td>15.0</td>\n",
       "      <td>0.807457</td>\n",
       "      <td>76.60</td>\n",
       "      <td>34.21</td>\n",
       "      <td>7E</td>\n",
       "      <td>2020-10-31 15:13:27.093750016</td>\n",
       "      <td>2.0</td>\n",
       "    </tr>\n",
       "    <tr>\n",
       "      <th>4035466</th>\n",
       "      <td>-22.0</td>\n",
       "      <td>-59.0</td>\n",
       "      <td>14.0</td>\n",
       "      <td>0.807457</td>\n",
       "      <td>76.60</td>\n",
       "      <td>34.21</td>\n",
       "      <td>7E</td>\n",
       "      <td>2020-10-31 15:13</td>\n",
       "      <td>NaN</td>\n",
       "    </tr>\n",
       "  </tbody>\n",
       "</table>\n",
       "<p>4035467 rows × 9 columns</p>\n",
       "</div>"
      ],
      "text/plain": [
       "            X     Y     Z       EDA     HR   TEMP  id  \\\n",
       "0       -13.0 -61.0   5.0  6.769995  99.43  31.17  15   \n",
       "1       -20.0 -69.0  -3.0  6.769995  99.43  31.17  15   \n",
       "2       -31.0 -78.0 -15.0  6.769995  99.43  31.17  15   \n",
       "3       -47.0 -65.0 -38.0  6.769995  99.43  31.17  15   \n",
       "4       -67.0 -57.0 -53.0  6.769995  99.43  31.17  15   \n",
       "...       ...   ...   ...       ...    ...    ...  ..   \n",
       "4035462 -23.0 -59.0  13.0  0.807457  76.60  34.21  7E   \n",
       "4035463 -23.0 -59.0  14.0  0.807457  76.60  34.21  7E   \n",
       "4035464 -23.0 -59.0  15.0  0.807457  76.60  34.21  7E   \n",
       "4035465 -23.0 -59.0  15.0  0.807457  76.60  34.21  7E   \n",
       "4035466 -22.0 -59.0  14.0  0.807457  76.60  34.21  7E   \n",
       "\n",
       "                              datetime  label  \n",
       "0        2020-07-08 14:03:00.000000000    2.0  \n",
       "1        2020-07-08 14:03:00.031249920    2.0  \n",
       "2        2020-07-08 14:03:00.062500096    2.0  \n",
       "3        2020-07-08 14:03:00.093750016    2.0  \n",
       "4        2020-07-08 14:03:00.124999936    2.0  \n",
       "...                                ...    ...  \n",
       "4035462  2020-10-31 15:13:27.000000000    2.0  \n",
       "4035463  2020-10-31 15:13:27.031249920    2.0  \n",
       "4035464  2020-10-31 15:13:27.062500096    2.0  \n",
       "4035465  2020-10-31 15:13:27.093750016    2.0  \n",
       "4035466               2020-10-31 15:13    NaN  \n",
       "\n",
       "[4035467 rows x 9 columns]"
      ]
     },
     "execution_count": 5,
     "metadata": {},
     "output_type": "execute_result"
    }
   ],
   "source": [
    "df"
   ]
  },
  {
   "cell_type": "code",
   "execution_count": 6,
   "id": "34659db2",
   "metadata": {},
   "outputs": [
    {
     "data": {
      "text/plain": [
       "X           0\n",
       "Y           0\n",
       "Z           0\n",
       "EDA         0\n",
       "HR          0\n",
       "TEMP        0\n",
       "id          0\n",
       "datetime    0\n",
       "label       1\n",
       "dtype: int64"
      ]
     },
     "execution_count": 6,
     "metadata": {},
     "output_type": "execute_result"
    }
   ],
   "source": [
    "df.isnull().sum()"
   ]
  },
  {
   "cell_type": "code",
   "execution_count": 7,
   "id": "6f096d71",
   "metadata": {},
   "outputs": [],
   "source": [
    "df.dropna(inplace=True)"
   ]
  },
  {
   "cell_type": "code",
   "execution_count": 8,
   "id": "73de19fb",
   "metadata": {},
   "outputs": [
    {
     "name": "stdout",
     "output_type": "stream",
     "text": [
      "train\n"
     ]
    },
    {
     "data": {
      "text/plain": [
       "X           0\n",
       "Y           0\n",
       "Z           0\n",
       "EDA         0\n",
       "HR          0\n",
       "TEMP        0\n",
       "id          0\n",
       "datetime    0\n",
       "label       0\n",
       "dtype: int64"
      ]
     },
     "metadata": {},
     "output_type": "display_data"
    },
    {
     "data": {
      "image/png": "[encoded data removed]",
      "text/plain": [
       "<Figure size 288x144 with 2 Axes>"
      ]
     },
     "metadata": {
      "needs_background": "light"
     },
     "output_type": "display_data"
    }
   ],
   "source": [
    "print('train')\n",
    "display(df.isnull().sum())\n",
    "\n",
    "plt.figure(figsize = (4, 2))\n",
    "plt.title(\"Training Set\")\n",
    "sns.heatmap(df.isnull())\n",
    "plt.show()"
   ]
  },
  {
   "cell_type": "code",
   "execution_count": 9,
   "id": "600a49ee",
   "metadata": {},
   "outputs": [
    {
     "name": "stdout",
     "output_type": "stream",
     "text": [
      "train\n",
      "<class 'pandas.core.frame.DataFrame'>\n",
      "Int64Index: 4035466 entries, 0 to 4035465\n",
      "Data columns (total 9 columns):\n",
      " #   Column    Dtype  \n",
      "---  ------    -----  \n",
      " 0   X         float64\n",
      " 1   Y         float64\n",
      " 2   Z         float64\n",
      " 3   EDA       float64\n",
      " 4   HR        float64\n",
      " 5   TEMP      float64\n",
      " 6   id        object \n",
      " 7   datetime  object \n",
      " 8   label     float64\n",
      "dtypes: float64(7), object(2)\n",
      "memory usage: 307.9+ MB\n"
     ]
    },
    {
     "data": {
      "text/plain": [
       "None"
      ]
     },
     "metadata": {},
     "output_type": "display_data"
    }
   ],
   "source": [
    "print('train')\n",
    "display(df.info())"
   ]
  },
  {
   "cell_type": "code",
   "execution_count": 10,
   "id": "b6c7f422",
   "metadata": {},
   "outputs": [],
   "source": [
    "df= df.drop(columns=['id'],axis=1)"
   ]
  },
  {
   "cell_type": "code",
   "execution_count": 11,
   "id": "e683b33a",
   "metadata": {},
   "outputs": [
    {
     "data": {
      "text/html": [
       "<div>\n",
       "<style scoped>\n",
       "    .dataframe tbody tr th:only-of-type {\n",
       "        vertical-align: middle;\n",
       "    }\n",
       "\n",
       "    .dataframe tbody tr th {\n",
       "        vertical-align: top;\n",
       "    }\n",
       "\n",
       "    .dataframe thead th {\n",
       "        text-align: right;\n",
       "    }\n",
       "</style>\n",
       "<table border=\"1\" class=\"dataframe\">\n",
       "  <thead>\n",
       "    <tr style=\"text-align: right;\">\n",
       "      <th></th>\n",
       "      <th>X</th>\n",
       "      <th>Y</th>\n",
       "      <th>Z</th>\n",
       "      <th>EDA</th>\n",
       "      <th>HR</th>\n",
       "      <th>TEMP</th>\n",
       "      <th>datetime</th>\n",
       "      <th>label</th>\n",
       "    </tr>\n",
       "  </thead>\n",
       "  <tbody>\n",
       "    <tr>\n",
       "      <th>0</th>\n",
       "      <td>-13.0</td>\n",
       "      <td>-61.0</td>\n",
       "      <td>5.0</td>\n",
       "      <td>6.769995</td>\n",
       "      <td>99.43</td>\n",
       "      <td>31.17</td>\n",
       "      <td>2020-07-08 14:03:00.000000000</td>\n",
       "      <td>2.0</td>\n",
       "    </tr>\n",
       "    <tr>\n",
       "      <th>1</th>\n",
       "      <td>-20.0</td>\n",
       "      <td>-69.0</td>\n",
       "      <td>-3.0</td>\n",
       "      <td>6.769995</td>\n",
       "      <td>99.43</td>\n",
       "      <td>31.17</td>\n",
       "      <td>2020-07-08 14:03:00.031249920</td>\n",
       "      <td>2.0</td>\n",
       "    </tr>\n",
       "    <tr>\n",
       "      <th>2</th>\n",
       "      <td>-31.0</td>\n",
       "      <td>-78.0</td>\n",
       "      <td>-15.0</td>\n",
       "      <td>6.769995</td>\n",
       "      <td>99.43</td>\n",
       "      <td>31.17</td>\n",
       "      <td>2020-07-08 14:03:00.062500096</td>\n",
       "      <td>2.0</td>\n",
       "    </tr>\n",
       "    <tr>\n",
       "      <th>3</th>\n",
       "      <td>-47.0</td>\n",
       "      <td>-65.0</td>\n",
       "      <td>-38.0</td>\n",
       "      <td>6.769995</td>\n",
       "      <td>99.43</td>\n",
       "      <td>31.17</td>\n",
       "      <td>2020-07-08 14:03:00.093750016</td>\n",
       "      <td>2.0</td>\n",
       "    </tr>\n",
       "    <tr>\n",
       "      <th>4</th>\n",
       "      <td>-67.0</td>\n",
       "      <td>-57.0</td>\n",
       "      <td>-53.0</td>\n",
       "      <td>6.769995</td>\n",
       "      <td>99.43</td>\n",
       "      <td>31.17</td>\n",
       "      <td>2020-07-08 14:03:00.124999936</td>\n",
       "      <td>2.0</td>\n",
       "    </tr>\n",
       "    <tr>\n",
       "      <th>...</th>\n",
       "      <td>...</td>\n",
       "      <td>...</td>\n",
       "      <td>...</td>\n",
       "      <td>...</td>\n",
       "      <td>...</td>\n",
       "      <td>...</td>\n",
       "      <td>...</td>\n",
       "      <td>...</td>\n",
       "    </tr>\n",
       "    <tr>\n",
       "      <th>4035461</th>\n",
       "      <td>-22.0</td>\n",
       "      <td>-58.0</td>\n",
       "      <td>13.0</td>\n",
       "      <td>0.798488</td>\n",
       "      <td>76.82</td>\n",
       "      <td>34.23</td>\n",
       "      <td>2020-10-31 15:13:26.968750080</td>\n",
       "      <td>2.0</td>\n",
       "    </tr>\n",
       "    <tr>\n",
       "      <th>4035462</th>\n",
       "      <td>-23.0</td>\n",
       "      <td>-59.0</td>\n",
       "      <td>13.0</td>\n",
       "      <td>0.807457</td>\n",
       "      <td>76.60</td>\n",
       "      <td>34.21</td>\n",
       "      <td>2020-10-31 15:13:27.000000000</td>\n",
       "      <td>2.0</td>\n",
       "    </tr>\n",
       "    <tr>\n",
       "      <th>4035463</th>\n",
       "      <td>-23.0</td>\n",
       "      <td>-59.0</td>\n",
       "      <td>14.0</td>\n",
       "      <td>0.807457</td>\n",
       "      <td>76.60</td>\n",
       "      <td>34.21</td>\n",
       "      <td>2020-10-31 15:13:27.031249920</td>\n",
       "      <td>2.0</td>\n",
       "    </tr>\n",
       "    <tr>\n",
       "      <th>4035464</th>\n",
       "      <td>-23.0</td>\n",
       "      <td>-59.0</td>\n",
       "      <td>15.0</td>\n",
       "      <td>0.807457</td>\n",
       "      <td>76.60</td>\n",
       "      <td>34.21</td>\n",
       "      <td>2020-10-31 15:13:27.062500096</td>\n",
       "      <td>2.0</td>\n",
       "    </tr>\n",
       "    <tr>\n",
       "      <th>4035465</th>\n",
       "      <td>-23.0</td>\n",
       "      <td>-59.0</td>\n",
       "      <td>15.0</td>\n",
       "      <td>0.807457</td>\n",
       "      <td>76.60</td>\n",
       "      <td>34.21</td>\n",
       "      <td>2020-10-31 15:13:27.093750016</td>\n",
       "      <td>2.0</td>\n",
       "    </tr>\n",
       "  </tbody>\n",
       "</table>\n",
       "<p>4035466 rows × 8 columns</p>\n",
       "</div>"
      ],
      "text/plain": [
       "            X     Y     Z       EDA     HR   TEMP  \\\n",
       "0       -13.0 -61.0   5.0  6.769995  99.43  31.17   \n",
       "1       -20.0 -69.0  -3.0  6.769995  99.43  31.17   \n",
       "2       -31.0 -78.0 -15.0  6.769995  99.43  31.17   \n",
       "3       -47.0 -65.0 -38.0  6.769995  99.43  31.17   \n",
       "4       -67.0 -57.0 -53.0  6.769995  99.43  31.17   \n",
       "...       ...   ...   ...       ...    ...    ...   \n",
       "4035461 -22.0 -58.0  13.0  0.798488  76.82  34.23   \n",
       "4035462 -23.0 -59.0  13.0  0.807457  76.60  34.21   \n",
       "4035463 -23.0 -59.0  14.0  0.807457  76.60  34.21   \n",
       "4035464 -23.0 -59.0  15.0  0.807457  76.60  34.21   \n",
       "4035465 -23.0 -59.0  15.0  0.807457  76.60  34.21   \n",
       "\n",
       "                              datetime  label  \n",
       "0        2020-07-08 14:03:00.000000000    2.0  \n",
       "1        2020-07-08 14:03:00.031249920    2.0  \n",
       "2        2020-07-08 14:03:00.062500096    2.0  \n",
       "3        2020-07-08 14:03:00.093750016    2.0  \n",
       "4        2020-07-08 14:03:00.124999936    2.0  \n",
       "...                                ...    ...  \n",
       "4035461  2020-10-31 15:13:26.968750080    2.0  \n",
       "4035462  2020-10-31 15:13:27.000000000    2.0  \n",
       "4035463  2020-10-31 15:13:27.031249920    2.0  \n",
       "4035464  2020-10-31 15:13:27.062500096    2.0  \n",
       "4035465  2020-10-31 15:13:27.093750016    2.0  \n",
       "\n",
       "[4035466 rows x 8 columns]"
      ]
     },
     "execution_count": 11,
     "metadata": {},
     "output_type": "execute_result"
    }
   ],
   "source": [
    "df"
   ]
  },
  {
   "cell_type": "code",
   "execution_count": 12,
   "id": "55e00cf3",
   "metadata": {},
   "outputs": [
    {
     "data": {
      "text/html": [
       "<div>\n",
       "<style scoped>\n",
       "    .dataframe tbody tr th:only-of-type {\n",
       "        vertical-align: middle;\n",
       "    }\n",
       "\n",
       "    .dataframe tbody tr th {\n",
       "        vertical-align: top;\n",
       "    }\n",
       "\n",
       "    .dataframe thead th {\n",
       "        text-align: right;\n",
       "    }\n",
       "</style>\n",
       "<table border=\"1\" class=\"dataframe\">\n",
       "  <thead>\n",
       "    <tr style=\"text-align: right;\">\n",
       "      <th></th>\n",
       "      <th>X</th>\n",
       "      <th>Y</th>\n",
       "      <th>Z</th>\n",
       "      <th>EDA</th>\n",
       "      <th>HR</th>\n",
       "      <th>TEMP</th>\n",
       "      <th>datetime</th>\n",
       "      <th>label</th>\n",
       "    </tr>\n",
       "  </thead>\n",
       "  <tbody>\n",
       "    <tr>\n",
       "      <th>0</th>\n",
       "      <td>-13.0</td>\n",
       "      <td>-61.0</td>\n",
       "      <td>5.0</td>\n",
       "      <td>6.769995</td>\n",
       "      <td>99.43</td>\n",
       "      <td>31.17</td>\n",
       "      <td>2915215</td>\n",
       "      <td>2.0</td>\n",
       "    </tr>\n",
       "    <tr>\n",
       "      <th>1</th>\n",
       "      <td>-20.0</td>\n",
       "      <td>-69.0</td>\n",
       "      <td>-3.0</td>\n",
       "      <td>6.769995</td>\n",
       "      <td>99.43</td>\n",
       "      <td>31.17</td>\n",
       "      <td>2915216</td>\n",
       "      <td>2.0</td>\n",
       "    </tr>\n",
       "    <tr>\n",
       "      <th>2</th>\n",
       "      <td>-31.0</td>\n",
       "      <td>-78.0</td>\n",
       "      <td>-15.0</td>\n",
       "      <td>6.769995</td>\n",
       "      <td>99.43</td>\n",
       "      <td>31.17</td>\n",
       "      <td>2915217</td>\n",
       "      <td>2.0</td>\n",
       "    </tr>\n",
       "    <tr>\n",
       "      <th>3</th>\n",
       "      <td>-47.0</td>\n",
       "      <td>-65.0</td>\n",
       "      <td>-38.0</td>\n",
       "      <td>6.769995</td>\n",
       "      <td>99.43</td>\n",
       "      <td>31.17</td>\n",
       "      <td>2915218</td>\n",
       "      <td>2.0</td>\n",
       "    </tr>\n",
       "    <tr>\n",
       "      <th>4</th>\n",
       "      <td>-67.0</td>\n",
       "      <td>-57.0</td>\n",
       "      <td>-53.0</td>\n",
       "      <td>6.769995</td>\n",
       "      <td>99.43</td>\n",
       "      <td>31.17</td>\n",
       "      <td>2915219</td>\n",
       "      <td>2.0</td>\n",
       "    </tr>\n",
       "    <tr>\n",
       "      <th>...</th>\n",
       "      <td>...</td>\n",
       "      <td>...</td>\n",
       "      <td>...</td>\n",
       "      <td>...</td>\n",
       "      <td>...</td>\n",
       "      <td>...</td>\n",
       "      <td>...</td>\n",
       "      <td>...</td>\n",
       "    </tr>\n",
       "    <tr>\n",
       "      <th>4035461</th>\n",
       "      <td>-22.0</td>\n",
       "      <td>-58.0</td>\n",
       "      <td>13.0</td>\n",
       "      <td>0.798488</td>\n",
       "      <td>76.82</td>\n",
       "      <td>34.23</td>\n",
       "      <td>3822333</td>\n",
       "      <td>2.0</td>\n",
       "    </tr>\n",
       "    <tr>\n",
       "      <th>4035462</th>\n",
       "      <td>-23.0</td>\n",
       "      <td>-59.0</td>\n",
       "      <td>13.0</td>\n",
       "      <td>0.807457</td>\n",
       "      <td>76.60</td>\n",
       "      <td>34.21</td>\n",
       "      <td>3822334</td>\n",
       "      <td>2.0</td>\n",
       "    </tr>\n",
       "    <tr>\n",
       "      <th>4035463</th>\n",
       "      <td>-23.0</td>\n",
       "      <td>-59.0</td>\n",
       "      <td>14.0</td>\n",
       "      <td>0.807457</td>\n",
       "      <td>76.60</td>\n",
       "      <td>34.21</td>\n",
       "      <td>3822335</td>\n",
       "      <td>2.0</td>\n",
       "    </tr>\n",
       "    <tr>\n",
       "      <th>4035464</th>\n",
       "      <td>-23.0</td>\n",
       "      <td>-59.0</td>\n",
       "      <td>15.0</td>\n",
       "      <td>0.807457</td>\n",
       "      <td>76.60</td>\n",
       "      <td>34.21</td>\n",
       "      <td>3822336</td>\n",
       "      <td>2.0</td>\n",
       "    </tr>\n",
       "    <tr>\n",
       "      <th>4035465</th>\n",
       "      <td>-23.0</td>\n",
       "      <td>-59.0</td>\n",
       "      <td>15.0</td>\n",
       "      <td>0.807457</td>\n",
       "      <td>76.60</td>\n",
       "      <td>34.21</td>\n",
       "      <td>3822337</td>\n",
       "      <td>2.0</td>\n",
       "    </tr>\n",
       "  </tbody>\n",
       "</table>\n",
       "<p>4035466 rows × 8 columns</p>\n",
       "</div>"
      ],
      "text/plain": [
       "            X     Y     Z       EDA     HR   TEMP  datetime  label\n",
       "0       -13.0 -61.0   5.0  6.769995  99.43  31.17   2915215    2.0\n",
       "1       -20.0 -69.0  -3.0  6.769995  99.43  31.17   2915216    2.0\n",
       "2       -31.0 -78.0 -15.0  6.769995  99.43  31.17   2915217    2.0\n",
       "3       -47.0 -65.0 -38.0  6.769995  99.43  31.17   2915218    2.0\n",
       "4       -67.0 -57.0 -53.0  6.769995  99.43  31.17   2915219    2.0\n",
       "...       ...   ...   ...       ...    ...    ...       ...    ...\n",
       "4035461 -22.0 -58.0  13.0  0.798488  76.82  34.23   3822333    2.0\n",
       "4035462 -23.0 -59.0  13.0  0.807457  76.60  34.21   3822334    2.0\n",
       "4035463 -23.0 -59.0  14.0  0.807457  76.60  34.21   3822335    2.0\n",
       "4035464 -23.0 -59.0  15.0  0.807457  76.60  34.21   3822336    2.0\n",
       "4035465 -23.0 -59.0  15.0  0.807457  76.60  34.21   3822337    2.0\n",
       "\n",
       "[4035466 rows x 8 columns]"
      ]
     },
     "metadata": {},
     "output_type": "display_data"
    }
   ],
   "source": [
    "from sklearn.preprocessing import LabelEncoder\n",
    "le = LabelEncoder()\n",
    "df['datetime'] = le.fit_transform(df['datetime'])\n",
    "display(df)"
   ]
  },
  {
   "cell_type": "code",
   "execution_count": 13,
   "id": "56b94057",
   "metadata": {},
   "outputs": [
    {
     "name": "stdout",
     "output_type": "stream",
     "text": [
      "X\n",
      "Skewness: 0.774746\n",
      "Kurtosis: 0.857301\n",
      "X\n",
      "Skewness: -0.226531\n",
      "Kurtosis: -0.016969\n",
      "Z\n",
      "Skewness: -0.086029\n",
      "Kurtosis: 0.781010\n",
      "EDA\n",
      "Skewness: 3.307402\n",
      "Kurtosis: 13.021465\n",
      "HR\n",
      "Skewness: 0.913654\n",
      "Kurtosis: 1.591764\n",
      "TEMP\n",
      "Skewness: 0.118809\n",
      "Kurtosis: -0.940357\n",
      "datetime\n",
      "Skewness: 0.080314\n",
      "Kurtosis: -1.190619\n"
     ]
    }
   ],
   "source": [
    "print(\"X\")\n",
    "print(\"Skewness: %f\" % df['X'].skew())\n",
    "print(\"Kurtosis: %f\" % df['X'].kurt())\n",
    "print(\"X\")\n",
    "print(\"Skewness: %f\" % df['Y'].skew())\n",
    "print(\"Kurtosis: %f\" % df['Y'].kurt())\n",
    "print(\"Z\")\n",
    "print(\"Skewness: %f\" % df['Z'].skew())\n",
    "print(\"Kurtosis: %f\" % df['Z'].kurt())\n",
    "print(\"EDA\")\n",
    "print(\"Skewness: %f\" % df['EDA'].skew())\n",
    "print(\"Kurtosis: %f\" % df['EDA'].kurt())\n",
    "print(\"HR\")\n",
    "print(\"Skewness: %f\" % df['HR'].skew())\n",
    "print(\"Kurtosis: %f\" % df['HR'].kurt())\n",
    "print(\"TEMP\")\n",
    "print(\"Skewness: %f\" % df['TEMP'].skew())\n",
    "print(\"Kurtosis: %f\" % df['TEMP'].kurt())\n",
    "print(\"datetime\")\n",
    "print(\"Skewness: %f\" % df['datetime'].skew())\n",
    "print(\"Kurtosis: %f\" % df['datetime'].kurt())"
   ]
  },
  {
   "cell_type": "code",
   "execution_count": 14,
   "id": "20c02229",
   "metadata": {},
   "outputs": [
    {
     "name": "stdout",
     "output_type": "stream",
     "text": [
      "EDA Original value\n",
      "Skewness: 3.307402\n",
      "Kurtosis: 13.021465\n",
      "EDA Adjusted value\n",
      "skewness:1.027770\n",
      "kurtosis:0.818052\n"
     ]
    }
   ],
   "source": [
    "print(\"EDA Original value\")\n",
    "print(\"Skewness: %f\" % df['EDA'].skew())\n",
    "print(\"Kurtosis: %f\" % df['EDA'].kurt())\n",
    "\n",
    "print(\"EDA Adjusted value\")\n",
    "df['EDA'] = df['EDA']**(1/3)\n",
    "print('skewness:%f'%stats.skew(df['EDA'], bias = False))\n",
    "print('kurtosis:%f'%stats.kurtosis(df['EDA'], bias = False, fisher=True))"
   ]
  },
  {
   "cell_type": "markdown",
   "id": "a93e97b8",
   "metadata": {},
   "source": [
    "# Feature Selection"
   ]
  },
  {
   "cell_type": "code",
   "execution_count": 15,
   "id": "2b309f78",
   "metadata": {},
   "outputs": [
    {
     "name": "stdout",
     "output_type": "stream",
     "text": [
      "[LightGBM] [Info] Auto-choosing row-wise multi-threading, the overhead of testing was 0.108398 seconds.\n",
      "You can set `force_row_wise=true` to remove the overhead.\n",
      "And if memory is not enough, you can set `force_col_wise=true`.\n",
      "[LightGBM] [Info] Total Bins 1597\n",
      "[LightGBM] [Info] Number of data points in the train set: 4035466, number of used features: 7\n",
      "[LightGBM] [Info] Start training from score -1.358973\n",
      "[LightGBM] [Info] Start training from score -1.774624\n",
      "[LightGBM] [Info] Start training from score -0.555948\n",
      "LGBMClassifi: \n",
      " [  96  188  217 1272  602 1958 4667]\n"
     ]
    },
    {
     "data": {
      "image/png": "[encoded data removed]",
      "text/plain": [
       "<Figure size 432x288 with 1 Axes>"
      ]
     },
     "metadata": {
      "needs_background": "light"
     },
     "output_type": "display_data"
    }
   ],
   "source": [
    "X_data_feature= df.drop(columns=['label'],axis=1)\n",
    "y_data_feature= df['label']\n",
    "\n",
    "model = [LGBMClassifier()]\n",
    "\n",
    "model = [model[i].fit(X_data_feature,y_data_feature) for i in range(len(model))]\n",
    "\n",
    "num_chr = [12, 12, 10]\n",
    "\n",
    "for i in range(len(model)):\n",
    "    print(str(model[i])[:num_chr[i]] + ': \\n',\n",
    "          model[i].feature_importances_)\n",
    "    feat_importances = pd.Series(model[i].feature_importances_,\n",
    "                                 index=X_data_feature.columns)\n",
    "    feat_importances.nlargest(7).plot(kind='barh', color='royalblue')\n",
    "    plt.xlim(0, 5000)\n",
    "    plt.show()"
   ]
  },
  {
   "cell_type": "code",
   "execution_count": 16,
   "id": "27ca0c50",
   "metadata": {},
   "outputs": [
    {
     "data": {
      "image/png": "[encoded data removed]",
      "text/plain": [
       "<Figure size 1080x1080 with 2 Axes>"
      ]
     },
     "metadata": {
      "needs_background": "light"
     },
     "output_type": "display_data"
    }
   ],
   "source": [
    "corr = df.corr(method='pearson')\n",
    "fig, ax = plt.subplots(figsize=(15, 15))\n",
    "sns.heatmap(corr, cmap='RdBu', annot=True, fmt=\".2f\")\n",
    "plt.xticks(range(len(corr.columns)), corr.columns);\n",
    "plt.yticks(range(len(corr.columns)), corr.columns)\n",
    "plt.show()"
   ]
  },
  {
   "cell_type": "code",
   "execution_count": 17,
   "id": "6fd363dd",
   "metadata": {},
   "outputs": [],
   "source": [
    "X= df.drop(columns=['label','datetime'],axis=1)\n",
    "y= df['label']"
   ]
  },
  {
   "cell_type": "code",
   "execution_count": 18,
   "id": "12d13293",
   "metadata": {},
   "outputs": [
    {
     "data": {
      "text/html": [
       "<div>\n",
       "<style scoped>\n",
       "    .dataframe tbody tr th:only-of-type {\n",
       "        vertical-align: middle;\n",
       "    }\n",
       "\n",
       "    .dataframe tbody tr th {\n",
       "        vertical-align: top;\n",
       "    }\n",
       "\n",
       "    .dataframe thead th {\n",
       "        text-align: right;\n",
       "    }\n",
       "</style>\n",
       "<table border=\"1\" class=\"dataframe\">\n",
       "  <thead>\n",
       "    <tr style=\"text-align: right;\">\n",
       "      <th></th>\n",
       "      <th>0</th>\n",
       "      <th>1</th>\n",
       "      <th>2</th>\n",
       "      <th>3</th>\n",
       "      <th>4</th>\n",
       "      <th>5</th>\n",
       "    </tr>\n",
       "  </thead>\n",
       "  <tbody>\n",
       "    <tr>\n",
       "      <th>0</th>\n",
       "      <td>0.450980</td>\n",
       "      <td>0.262745</td>\n",
       "      <td>0.521569</td>\n",
       "      <td>0.533503</td>\n",
       "      <td>0.430489</td>\n",
       "      <td>0.5664</td>\n",
       "    </tr>\n",
       "    <tr>\n",
       "      <th>1</th>\n",
       "      <td>0.423529</td>\n",
       "      <td>0.231373</td>\n",
       "      <td>0.490196</td>\n",
       "      <td>0.533503</td>\n",
       "      <td>0.430489</td>\n",
       "      <td>0.5664</td>\n",
       "    </tr>\n",
       "    <tr>\n",
       "      <th>2</th>\n",
       "      <td>0.380392</td>\n",
       "      <td>0.196078</td>\n",
       "      <td>0.443137</td>\n",
       "      <td>0.533503</td>\n",
       "      <td>0.430489</td>\n",
       "      <td>0.5664</td>\n",
       "    </tr>\n",
       "    <tr>\n",
       "      <th>3</th>\n",
       "      <td>0.317647</td>\n",
       "      <td>0.247059</td>\n",
       "      <td>0.352941</td>\n",
       "      <td>0.533503</td>\n",
       "      <td>0.430489</td>\n",
       "      <td>0.5664</td>\n",
       "    </tr>\n",
       "    <tr>\n",
       "      <th>4</th>\n",
       "      <td>0.239216</td>\n",
       "      <td>0.278431</td>\n",
       "      <td>0.294118</td>\n",
       "      <td>0.533503</td>\n",
       "      <td>0.430489</td>\n",
       "      <td>0.5664</td>\n",
       "    </tr>\n",
       "    <tr>\n",
       "      <th>...</th>\n",
       "      <td>...</td>\n",
       "      <td>...</td>\n",
       "      <td>...</td>\n",
       "      <td>...</td>\n",
       "      <td>...</td>\n",
       "      <td>...</td>\n",
       "    </tr>\n",
       "    <tr>\n",
       "      <th>4035461</th>\n",
       "      <td>0.415686</td>\n",
       "      <td>0.274510</td>\n",
       "      <td>0.552941</td>\n",
       "      <td>0.261636</td>\n",
       "      <td>0.229511</td>\n",
       "      <td>0.8112</td>\n",
       "    </tr>\n",
       "    <tr>\n",
       "      <th>4035462</th>\n",
       "      <td>0.411765</td>\n",
       "      <td>0.270588</td>\n",
       "      <td>0.552941</td>\n",
       "      <td>0.262612</td>\n",
       "      <td>0.227556</td>\n",
       "      <td>0.8096</td>\n",
       "    </tr>\n",
       "    <tr>\n",
       "      <th>4035463</th>\n",
       "      <td>0.411765</td>\n",
       "      <td>0.270588</td>\n",
       "      <td>0.556863</td>\n",
       "      <td>0.262612</td>\n",
       "      <td>0.227556</td>\n",
       "      <td>0.8096</td>\n",
       "    </tr>\n",
       "    <tr>\n",
       "      <th>4035464</th>\n",
       "      <td>0.411765</td>\n",
       "      <td>0.270588</td>\n",
       "      <td>0.560784</td>\n",
       "      <td>0.262612</td>\n",
       "      <td>0.227556</td>\n",
       "      <td>0.8096</td>\n",
       "    </tr>\n",
       "    <tr>\n",
       "      <th>4035465</th>\n",
       "      <td>0.411765</td>\n",
       "      <td>0.270588</td>\n",
       "      <td>0.560784</td>\n",
       "      <td>0.262612</td>\n",
       "      <td>0.227556</td>\n",
       "      <td>0.8096</td>\n",
       "    </tr>\n",
       "  </tbody>\n",
       "</table>\n",
       "<p>4035466 rows × 6 columns</p>\n",
       "</div>"
      ],
      "text/plain": [
       "                0         1         2         3         4       5\n",
       "0        0.450980  0.262745  0.521569  0.533503  0.430489  0.5664\n",
       "1        0.423529  0.231373  0.490196  0.533503  0.430489  0.5664\n",
       "2        0.380392  0.196078  0.443137  0.533503  0.430489  0.5664\n",
       "3        0.317647  0.247059  0.352941  0.533503  0.430489  0.5664\n",
       "4        0.239216  0.278431  0.294118  0.533503  0.430489  0.5664\n",
       "...           ...       ...       ...       ...       ...     ...\n",
       "4035461  0.415686  0.274510  0.552941  0.261636  0.229511  0.8112\n",
       "4035462  0.411765  0.270588  0.552941  0.262612  0.227556  0.8096\n",
       "4035463  0.411765  0.270588  0.556863  0.262612  0.227556  0.8096\n",
       "4035464  0.411765  0.270588  0.560784  0.262612  0.227556  0.8096\n",
       "4035465  0.411765  0.270588  0.560784  0.262612  0.227556  0.8096\n",
       "\n",
       "[4035466 rows x 6 columns]"
      ]
     },
     "execution_count": 18,
     "metadata": {},
     "output_type": "execute_result"
    }
   ],
   "source": [
    "from sklearn.preprocessing import MinMaxScaler\n",
    "\n",
    "X_train=X\n",
    "y_train=y\n",
    "\n",
    "MinMaxScaler = MinMaxScaler()\n",
    "X_train = MinMaxScaler.fit_transform(X_train)\n",
    "X_train = pd.DataFrame(X_train)\n",
    "X_train"
   ]
  },
  {
   "cell_type": "code",
   "execution_count": 19,
   "id": "3e320372",
   "metadata": {},
   "outputs": [
    {
     "name": "stdout",
     "output_type": "stream",
     "text": [
      "Shape of X_train:  (3228372, 6)\n",
      "Shape of X_eval:  (807094, 6)\n",
      "Shape of y_train:  (3228372,)\n",
      "Shape of y_eval (807094,)\n"
     ]
    }
   ],
   "source": [
    "X_train, X_eval, y_train, y_eval = train_test_split(X_train, y_train,test_size=0.2,random_state=2019)\n",
    "print(\"Shape of X_train: \",X_train.shape)\n",
    "print(\"Shape of X_eval: \", X_eval.shape)\n",
    "print(\"Shape of y_train: \",y_train.shape)\n",
    "print(\"Shape of y_eval\",y_eval.shape)"
   ]
  },
  {
   "cell_type": "markdown",
   "id": "f86a666a",
   "metadata": {},
   "source": [
    "# PCA"
   ]
  },
  {
   "cell_type": "code",
   "execution_count": 20,
   "id": "6adb302b",
   "metadata": {},
   "outputs": [
    {
     "name": "stdout",
     "output_type": "stream",
     "text": [
      "[0.3834829  0.17256869 0.13668816 0.12910305 0.1083818  0.0697754 ]\n"
     ]
    }
   ],
   "source": [
    "from sklearn.decomposition import PCA, IncrementalPCA\n",
    "pca = PCA(n_components=6).fit(X_train)\n",
    "exp = pca.explained_variance_ratio_\n",
    "print(exp)"
   ]
  },
  {
   "cell_type": "code",
   "execution_count": 21,
   "id": "836ab2dc",
   "metadata": {},
   "outputs": [
    {
     "data": {
      "image/png": "[encoded data removed]",
      "text/plain": [
       "<Figure size 432x288 with 1 Axes>"
      ]
     },
     "metadata": {
      "needs_background": "light"
     },
     "output_type": "display_data"
    }
   ],
   "source": [
    "plt.plot(np.cumsum(exp), linewidth=2, marker = 'o', linestyle = '--')\n",
    "plt.title(\"PCA\", fontsize=20)\n",
    "plt.xlabel('n_component')\n",
    "plt.ylabel('Cumulative explained Variance Ratio')\n",
    "plt.yticks(np.arange(0.55, 1.05, 0.05))\n",
    "plt.show()\n"
   ]
  },
  {
   "cell_type": "code",
   "execution_count": 22,
   "id": "2d9307a6",
   "metadata": {},
   "outputs": [
    {
     "data": {
      "text/plain": [
       "array([[-0.24255313,  0.01720032, -0.05886821,  0.09125841,  0.16229942],\n",
       "       [ 0.05691367,  0.03682247,  0.02823131,  0.06385561, -0.14729572],\n",
       "       [ 0.21411058,  0.19858405,  0.20463723, -0.1846539 , -0.13109059],\n",
       "       ...,\n",
       "       [-0.14735833, -0.04263986, -0.11680478,  0.04772053, -0.02782695],\n",
       "       [ 0.0486081 ,  0.45690568,  0.09668299,  0.02707541, -0.09787551],\n",
       "       [-0.25792055,  0.01466561,  0.13828506, -0.05166411,  0.10654534]])"
      ]
     },
     "metadata": {},
     "output_type": "display_data"
    },
    {
     "data": {
      "text/plain": [
       "array([[ 0.05163534, -0.23102173, -0.02912978, -0.02993614, -0.01594207],\n",
       "       [-0.01691102, -0.01389447, -0.07283812, -0.15548902, -0.05225669],\n",
       "       [-0.26278393,  0.0223683 ,  0.07120812, -0.06313909, -0.00098668],\n",
       "       ...,\n",
       "       [-0.20917347, -0.04999203, -0.00410795,  0.07272744, -0.08781659],\n",
       "       [ 0.21824064,  0.1202692 ,  0.12188801,  0.10659017, -0.0022577 ],\n",
       "       [ 0.10345401, -0.15860532,  0.03101657, -0.1147501 , -0.0859524 ]])"
      ]
     },
     "metadata": {},
     "output_type": "display_data"
    }
   ],
   "source": [
    "X_train_pca = IncrementalPCA(n_components=5).fit_transform(X_train)\n",
    "X_eval_pca = IncrementalPCA(n_components=5).fit_transform(X_eval)\n",
    "\n",
    "X_train=X_train_pca\n",
    "X_eval=X_eval_pca\n",
    "\n",
    "display(X_train)\n",
    "display(X_eval)"
   ]
  },
  {
   "cell_type": "code",
   "execution_count": 23,
   "id": "0c39de20",
   "metadata": {},
   "outputs": [
    {
     "name": "stdout",
     "output_type": "stream",
     "text": [
      "(3228372, 5)\n",
      "(807094, 5)\n"
     ]
    }
   ],
   "source": [
    "print(X_train.shape)\n",
    "print(X_eval.shape)"
   ]
  },
  {
   "cell_type": "code",
   "execution_count": 24,
   "id": "c476e2d1",
   "metadata": {},
   "outputs": [
    {
     "name": "stdout",
     "output_type": "stream",
     "text": [
      "[LightGBM] [Info] Auto-choosing col-wise multi-threading, the overhead of testing was 0.097628 seconds.\n",
      "You can set `force_col_wise=true` to remove the overhead.\n",
      "[LightGBM] [Info] Total Bins 1275\n",
      "[LightGBM] [Info] Number of data points in the train set: 3228372, number of used features: 5\n",
      "[LightGBM] [Info] Start training from score -1.359355\n",
      "[LightGBM] [Info] Start training from score -1.774153\n",
      "[LightGBM] [Info] Start training from score -0.555916\n"
     ]
    },
    {
     "data": {
      "text/plain": [
       "DecisionTreeClassifier()"
      ]
     },
     "execution_count": 24,
     "metadata": {},
     "output_type": "execute_result"
    }
   ],
   "source": [
    "LGBM = LGBMClassifier(objective='multiclass')\n",
    "LGBM.fit(X_train, y_train)\n",
    "\n",
    "XGB = XGBClassifier(objective='multi:softmax')\n",
    "XGB.fit(X_train, y_train)\n",
    "\n",
    "RFC = RandomForestClassifier()\n",
    "RFC.fit(X_train, y_train)\n",
    "\n",
    "KNN = KNeighborsClassifier()\n",
    "KNN.fit(X_train, y_train)\n",
    "\n",
    "LR=LogisticRegression()\n",
    "LR.fit(X_train,y_train)\n",
    "\n",
    "DTC=DecisionTreeClassifier()\n",
    "DTC.fit(X_train,y_train)"
   ]
  },
  {
   "cell_type": "code",
   "execution_count": 25,
   "id": "2f3df627",
   "metadata": {},
   "outputs": [
    {
     "name": "stdout",
     "output_type": "stream",
     "text": [
      "LGBM accuracy is: 88.525%\n"
     ]
    },
    {
     "data": {
      "image/png": "[encoded data removed]",
      "text/plain": [
       "<Figure size 288x288 with 2 Axes>"
      ]
     },
     "metadata": {
      "needs_background": "light"
     },
     "output_type": "display_data"
    }
   ],
   "source": [
    "y_pred_LGBM = LGBM.predict(X_eval) \n",
    "LGBM_acc = accuracy_score(y_eval, y_pred_LGBM)\n",
    "print(\"LGBM accuracy is: {0:.3f}%\".format(LGBM_acc * 100))\n",
    "cm = confusion_matrix(y_eval, y_pred_LGBM)\n",
    "plt.figure(figsize=(4, 4))\n",
    "sns.heatmap(cm, annot=True, fmt='.0f')\n",
    "plt.xlabel(\"Predicted Digits\")\n",
    "plt.ylabel(\"True Digits\")\n",
    "plt.show()"
   ]
  },
  {
   "cell_type": "code",
   "execution_count": 26,
   "id": "542252d0",
   "metadata": {},
   "outputs": [
    {
     "name": "stdout",
     "output_type": "stream",
     "text": [
      "XGB accuracy is: 91.237%\n"
     ]
    },
    {
     "data": {
      "image/png": "[encoded data removed]",
      "text/plain": [
       "<Figure size 288x288 with 2 Axes>"
      ]
     },
     "metadata": {
      "needs_background": "light"
     },
     "output_type": "display_data"
    }
   ],
   "source": [
    "y_pred_XGB = XGB.predict(X_eval) \n",
    "XGB_acc = accuracy_score(y_eval, y_pred_XGB)\n",
    "print(\"XGB accuracy is: {0:.3f}%\".format(XGB_acc * 100))\n",
    "cm = confusion_matrix(y_eval, y_pred_XGB)\n",
    "plt.figure(figsize=(4, 4))\n",
    "sns.heatmap(cm, annot=True, fmt='.0f')\n",
    "plt.xlabel(\"Predicted Digits\")\n",
    "plt.ylabel(\"True Digits\")\n",
    "plt.show()"
   ]
  },
  {
   "cell_type": "code",
   "execution_count": 27,
   "id": "5c4374ff",
   "metadata": {},
   "outputs": [
    {
     "name": "stdout",
     "output_type": "stream",
     "text": [
      "XGB accuracy is: 98.120%\n"
     ]
    },
    {
     "data": {
      "image/png": "[encoded data removed]",
      "text/plain": [
       "<Figure size 288x288 with 2 Axes>"
      ]
     },
     "metadata": {
      "needs_background": "light"
     },
     "output_type": "display_data"
    }
   ],
   "source": [
    "y_pred_RFC = RFC.predict(X_eval) \n",
    "RFC_acc = accuracy_score(y_eval, y_pred_RFC)\n",
    "print(\"XGB accuracy is: {0:.3f}%\".format(RFC_acc * 100))\n",
    "cm = confusion_matrix(y_eval, y_pred_RFC)\n",
    "plt.figure(figsize=(4, 4))\n",
    "sns.heatmap(cm, annot=True, fmt='.0f')\n",
    "plt.xlabel(\"Predicted Digits\")\n",
    "plt.ylabel(\"True Digits\")\n",
    "plt.show()"
   ]
  },
  {
   "cell_type": "code",
   "execution_count": 28,
   "id": "53b39209",
   "metadata": {},
   "outputs": [
    {
     "name": "stdout",
     "output_type": "stream",
     "text": [
      "XGB accuracy is: 98.103%\n"
     ]
    },
    {
     "data": {
      "image/png": "[encoded data removed]",
      "text/plain": [
       "<Figure size 288x288 with 2 Axes>"
      ]
     },
     "metadata": {
      "needs_background": "light"
     },
     "output_type": "display_data"
    }
   ],
   "source": [
    "y_pred_KNN = KNN.predict(X_eval) \n",
    "KNN_acc = accuracy_score(y_eval, y_pred_KNN)\n",
    "print(\"XGB accuracy is: {0:.3f}%\".format(KNN_acc * 100))\n",
    "cm = confusion_matrix(y_eval, y_pred_KNN)\n",
    "plt.figure(figsize=(4, 4))\n",
    "sns.heatmap(cm, annot=True, fmt='.0f')\n",
    "plt.xlabel(\"Predicted Digits\")\n",
    "plt.ylabel(\"True Digits\")\n",
    "plt.show()"
   ]
  },
  {
   "cell_type": "code",
   "execution_count": 29,
   "id": "c5b9b164",
   "metadata": {},
   "outputs": [
    {
     "name": "stdout",
     "output_type": "stream",
     "text": [
      "XGB accuracy is: 69.707%\n"
     ]
    },
    {
     "data": {
      "image/png": "[encoded data removed]",
      "text/plain": [
       "<Figure size 288x288 with 2 Axes>"
      ]
     },
     "metadata": {
      "needs_background": "light"
     },
     "output_type": "display_data"
    }
   ],
   "source": [
    "y_pred_LR = LR.predict(X_eval) \n",
    "LR_acc = accuracy_score(y_eval, y_pred_LR)\n",
    "print(\"XGB accuracy is: {0:.3f}%\".format(LR_acc * 100))\n",
    "cm = confusion_matrix(y_eval, y_pred_LR)\n",
    "plt.figure(figsize=(4, 4))\n",
    "sns.heatmap(cm, annot=True, fmt='.0f')\n",
    "plt.xlabel(\"Predicted Digits\")\n",
    "plt.ylabel(\"True Digits\")\n",
    "plt.show()"
   ]
  },
  {
   "cell_type": "code",
   "execution_count": 30,
   "id": "6191aa6f",
   "metadata": {},
   "outputs": [
    {
     "name": "stdout",
     "output_type": "stream",
     "text": [
      "XGB accuracy is: 95.853%\n"
     ]
    },
    {
     "data": {
      "image/png": "[encoded data removed]",
      "text/plain": [
       "<Figure size 288x288 with 2 Axes>"
      ]
     },
     "metadata": {
      "needs_background": "light"
     },
     "output_type": "display_data"
    }
   ],
   "source": [
    "y_pred_DTC = DTC.predict(X_eval) \n",
    "DTC_acc = accuracy_score(y_eval, y_pred_DTC)\n",
    "print(\"XGB accuracy is: {0:.3f}%\".format(DTC_acc * 100))\n",
    "cm = confusion_matrix(y_eval, y_pred_DTC)\n",
    "plt.figure(figsize=(4, 4))\n",
    "sns.heatmap(cm, annot=True, fmt='.0f')\n",
    "plt.xlabel(\"Predicted Digits\")\n",
    "plt.ylabel(\"True Digits\")\n",
    "plt.show()"
   ]
  },
  {
   "cell_type": "code",
   "execution_count": 31,
   "id": "c5e95d7f",
   "metadata": {},
   "outputs": [
    {
     "data": {
      "text/html": [
       "<div>\n",
       "<style scoped>\n",
       "    .dataframe tbody tr th:only-of-type {\n",
       "        vertical-align: middle;\n",
       "    }\n",
       "\n",
       "    .dataframe tbody tr th {\n",
       "        vertical-align: top;\n",
       "    }\n",
       "\n",
       "    .dataframe thead th {\n",
       "        text-align: right;\n",
       "    }\n",
       "</style>\n",
       "<table border=\"1\" class=\"dataframe\">\n",
       "  <thead>\n",
       "    <tr style=\"text-align: right;\">\n",
       "      <th></th>\n",
       "      <th>Model</th>\n",
       "      <th>Accuracy</th>\n",
       "    </tr>\n",
       "  </thead>\n",
       "  <tbody>\n",
       "    <tr>\n",
       "      <th>0</th>\n",
       "      <td>LGBMClassifier</td>\n",
       "      <td>0.885253</td>\n",
       "    </tr>\n",
       "    <tr>\n",
       "      <th>1</th>\n",
       "      <td>XGBClassifier</td>\n",
       "      <td>0.912367</td>\n",
       "    </tr>\n",
       "    <tr>\n",
       "      <th>2</th>\n",
       "      <td>RandomForestClassifier</td>\n",
       "      <td>0.981197</td>\n",
       "    </tr>\n",
       "    <tr>\n",
       "      <th>3</th>\n",
       "      <td>KNeighborsClassifier</td>\n",
       "      <td>0.981028</td>\n",
       "    </tr>\n",
       "    <tr>\n",
       "      <th>4</th>\n",
       "      <td>DecisionTreeClassifier</td>\n",
       "      <td>0.958527</td>\n",
       "    </tr>\n",
       "    <tr>\n",
       "      <th>5</th>\n",
       "      <td>LogisticRegression</td>\n",
       "      <td>0.697065</td>\n",
       "    </tr>\n",
       "  </tbody>\n",
       "</table>\n",
       "</div>"
      ],
      "text/plain": [
       "                    Model  Accuracy\n",
       "0          LGBMClassifier  0.885253\n",
       "1           XGBClassifier  0.912367\n",
       "2  RandomForestClassifier  0.981197\n",
       "3    KNeighborsClassifier  0.981028\n",
       "4  DecisionTreeClassifier  0.958527\n",
       "5      LogisticRegression  0.697065"
      ]
     },
     "execution_count": 31,
     "metadata": {},
     "output_type": "execute_result"
    }
   ],
   "source": [
    "models = [('LGBMClassifier', LGBM_acc),\n",
    "          ('XGBClassifier', XGB_acc),\n",
    "          ('RandomForestClassifier',RFC_acc),\n",
    "          ('KNeighborsClassifier',KNN_acc),\n",
    "          ('DecisionTreeClassifier',DTC_acc),\n",
    "          ('LogisticRegression',LR_acc)\n",
    "         ]                                           \n",
    "\n",
    "predict = pd.DataFrame(data = models, columns=['Model', 'Accuracy'])\n",
    "predict"
   ]
  },
  {
   "cell_type": "code",
   "execution_count": 32,
   "id": "2c94aaa8",
   "metadata": {},
   "outputs": [
    {
     "data": {
      "image/png": "[encoded data removed]",
      "text/plain": [
       "<Figure size 576x72 with 1 Axes>"
      ]
     },
     "metadata": {
      "needs_background": "light"
     },
     "output_type": "display_data"
    }
   ],
   "source": [
    "f, axe = plt.subplots(1,1, figsize=(8,1))\n",
    "\n",
    "predict.sort_values(by=['Accuracy'], ascending=False, inplace=True)\n",
    "\n",
    "sns.barplot(x='Accuracy', y='Model',  data = predict, ax = axe)\n",
    "axe.set_xlabel('Accuracy(Eval)', size=15)\n",
    "axe.set_ylabel('Model', size=15)\n",
    "axe.set_xlim(0,1.0)\n",
    "plt.show()"
   ]
  },
  {
   "cell_type": "code",
   "execution_count": null,
   "id": "27f50520",
   "metadata": {},
   "outputs": [],
   "source": []
  },
  {
   "cell_type": "code",
   "execution_count": null,
   "id": "692fff33",
   "metadata": {},
   "outputs": [],
   "source": []
  },
  {
   "cell_type": "code",
   "execution_count": null,
   "id": "5cdde1e4",
   "metadata": {},
   "outputs": [],
   "source": []
  }
 ],
 "metadata": {
  "kernelspec": {
   "display_name": "Python 3 (ipykernel)",
   "language": "python",
   "name": "python3"
  },
  "language_info": {
   "codemirror_mode": {
    "name": "ipython",
    "version": 3
   },
   "file_extension": ".py",
   "mimetype": "text/x-python",
   "name": "python",
   "nbconvert_exporter": "python",
   "pygments_lexer": "ipython3",
   "version": "3.9.12"
  }
 },
 "nbformat": 4,
 "nbformat_minor": 5
}
